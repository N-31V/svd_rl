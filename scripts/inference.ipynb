{
 "cells": [
  {
   "cell_type": "code",
   "execution_count": 1,
   "id": "initial_id",
   "metadata": {
    "collapsed": true,
    "ExecuteTime": {
     "end_time": "2023-11-14T14:53:05.472468929Z",
     "start_time": "2023-11-14T14:53:04.592768348Z"
    }
   },
   "outputs": [],
   "source": [
    "import sys\n",
    "sys.path.append('/home/n31v/workspace/Fedot.Industrial')\n",
    "\n",
    "import pandas as pd\n",
    "from torchvision.models import resnet18\n",
    "from fedot_ind.core.operation.optimization.svd_tools import load_svd_state_dict\n",
    "\n",
    "from compression.metrics import *"
   ]
  },
  {
   "cell_type": "code",
   "execution_count": 2,
   "outputs": [],
   "source": [
    "df = pd.DataFrame(columns=['params, M', 'size, MB', 'GFLOP', 'inference time, ms', 'CPU time, ms', 'GPU time, ms'])"
   ],
   "metadata": {
    "collapsed": false,
    "ExecuteTime": {
     "end_time": "2023-11-14T14:53:05.919968586Z",
     "start_time": "2023-11-14T14:53:05.918458152Z"
    }
   },
   "id": "161f5c6153625bba"
  },
  {
   "cell_type": "code",
   "execution_count": 40,
   "outputs": [
    {
     "name": "stderr",
     "output_type": "stream",
     "text": [
      "STAGE:2023-11-14 18:03:25 1787067:1787067 ActivityProfilerController.cpp:311] Completed Stage: Warm Up\n",
      "STAGE:2023-11-14 18:03:26 1787067:1787067 ActivityProfilerController.cpp:317] Completed Stage: Collection\n",
      "STAGE:2023-11-14 18:03:26 1787067:1787067 ActivityProfilerController.cpp:321] Completed Stage: Post Processing\n",
      "STAGE:2023-11-14 18:03:26 1787067:1787067 ActivityProfilerController.cpp:311] Completed Stage: Warm Up\n",
      "STAGE:2023-11-14 18:03:27 1787067:1787067 ActivityProfilerController.cpp:317] Completed Stage: Collection\n",
      "STAGE:2023-11-14 18:03:27 1787067:1787067 ActivityProfilerController.cpp:321] Completed Stage: Post Processing\n",
      "STAGE:2023-11-14 18:03:27 1787067:1787067 ActivityProfilerController.cpp:311] Completed Stage: Warm Up\n",
      "STAGE:2023-11-14 18:03:28 1787067:1787067 ActivityProfilerController.cpp:317] Completed Stage: Collection\n",
      "STAGE:2023-11-14 18:03:28 1787067:1787067 ActivityProfilerController.cpp:321] Completed Stage: Post Processing\n",
      "STAGE:2023-11-14 18:03:28 1787067:1787067 ActivityProfilerController.cpp:311] Completed Stage: Warm Up\n",
      "STAGE:2023-11-14 18:03:28 1787067:1787067 ActivityProfilerController.cpp:317] Completed Stage: Collection\n",
      "STAGE:2023-11-14 18:03:28 1787067:1787067 ActivityProfilerController.cpp:321] Completed Stage: Post Processing\n",
      "STAGE:2023-11-14 18:03:29 1787067:1787067 ActivityProfilerController.cpp:311] Completed Stage: Warm Up\n",
      "STAGE:2023-11-14 18:03:29 1787067:1787067 ActivityProfilerController.cpp:317] Completed Stage: Collection\n",
      "STAGE:2023-11-14 18:03:29 1787067:1787067 ActivityProfilerController.cpp:321] Completed Stage: Post Processing\n",
      "STAGE:2023-11-14 18:03:30 1787067:1787067 ActivityProfilerController.cpp:311] Completed Stage: Warm Up\n",
      "STAGE:2023-11-14 18:03:30 1787067:1787067 ActivityProfilerController.cpp:317] Completed Stage: Collection\n",
      "STAGE:2023-11-14 18:03:30 1787067:1787067 ActivityProfilerController.cpp:321] Completed Stage: Post Processing\n",
      "STAGE:2023-11-14 18:03:31 1787067:1787067 ActivityProfilerController.cpp:311] Completed Stage: Warm Up\n",
      "STAGE:2023-11-14 18:03:31 1787067:1787067 ActivityProfilerController.cpp:317] Completed Stage: Collection\n",
      "STAGE:2023-11-14 18:03:31 1787067:1787067 ActivityProfilerController.cpp:321] Completed Stage: Post Processing\n",
      "STAGE:2023-11-14 18:03:32 1787067:1787067 ActivityProfilerController.cpp:311] Completed Stage: Warm Up\n",
      "STAGE:2023-11-14 18:03:32 1787067:1787067 ActivityProfilerController.cpp:317] Completed Stage: Collection\n",
      "STAGE:2023-11-14 18:03:32 1787067:1787067 ActivityProfilerController.cpp:321] Completed Stage: Post Processing\n",
      "STAGE:2023-11-14 18:03:32 1787067:1787067 ActivityProfilerController.cpp:311] Completed Stage: Warm Up\n",
      "STAGE:2023-11-14 18:03:33 1787067:1787067 ActivityProfilerController.cpp:317] Completed Stage: Collection\n",
      "STAGE:2023-11-14 18:03:33 1787067:1787067 ActivityProfilerController.cpp:321] Completed Stage: Post Processing\n",
      "STAGE:2023-11-14 18:03:33 1787067:1787067 ActivityProfilerController.cpp:311] Completed Stage: Warm Up\n",
      "STAGE:2023-11-14 18:03:34 1787067:1787067 ActivityProfilerController.cpp:317] Completed Stage: Collection\n",
      "STAGE:2023-11-14 18:03:34 1787067:1787067 ActivityProfilerController.cpp:321] Completed Stage: Post Processing\n",
      "STAGE:2023-11-14 18:03:34 1787067:1787067 ActivityProfilerController.cpp:311] Completed Stage: Warm Up\n",
      "STAGE:2023-11-14 18:03:34 1787067:1787067 ActivityProfilerController.cpp:317] Completed Stage: Collection\n",
      "STAGE:2023-11-14 18:03:34 1787067:1787067 ActivityProfilerController.cpp:321] Completed Stage: Post Processing\n"
     ]
    },
    {
     "data": {
      "text/plain": "                               params, M   size, MB       GFLOP  \\\nBaseline ResNet18 CIFAR10      11.181642  44.765128  187.563442   \nResNet18 CIFAR10 one_layer      2.578952  10.354368  189.914631   \nResNet18 CIFAR10 two_layers     2.578952  10.354368  130.465980   \nResNet18 CIFAR10 three_layers   2.578952  10.354368  164.924475   \n\n                               inference time, ms  CPU time, ms  GPU time, ms  \nBaseline ResNet18 CIFAR10                421.4256      421.4256        0.0000  \nResNet18 CIFAR10 one_layer                14.0104        5.0893        8.9211  \nResNet18 CIFAR10 two_layers               18.8943        6.3264       12.5679  \nResNet18 CIFAR10 three_layers             21.7322        6.7803       14.9519  ",
      "text/html": "<div>\n<style scoped>\n    .dataframe tbody tr th:only-of-type {\n        vertical-align: middle;\n    }\n\n    .dataframe tbody tr th {\n        vertical-align: top;\n    }\n\n    .dataframe thead th {\n        text-align: right;\n    }\n</style>\n<table border=\"1\" class=\"dataframe\">\n  <thead>\n    <tr style=\"text-align: right;\">\n      <th></th>\n      <th>params, M</th>\n      <th>size, MB</th>\n      <th>GFLOP</th>\n      <th>inference time, ms</th>\n      <th>CPU time, ms</th>\n      <th>GPU time, ms</th>\n    </tr>\n  </thead>\n  <tbody>\n    <tr>\n      <th>Baseline ResNet18 CIFAR10</th>\n      <td>11.181642</td>\n      <td>44.765128</td>\n      <td>187.563442</td>\n      <td>421.4256</td>\n      <td>421.4256</td>\n      <td>0.0000</td>\n    </tr>\n    <tr>\n      <th>ResNet18 CIFAR10 one_layer</th>\n      <td>2.578952</td>\n      <td>10.354368</td>\n      <td>189.914631</td>\n      <td>14.0104</td>\n      <td>5.0893</td>\n      <td>8.9211</td>\n    </tr>\n    <tr>\n      <th>ResNet18 CIFAR10 two_layers</th>\n      <td>2.578952</td>\n      <td>10.354368</td>\n      <td>130.465980</td>\n      <td>18.8943</td>\n      <td>6.3264</td>\n      <td>12.5679</td>\n    </tr>\n    <tr>\n      <th>ResNet18 CIFAR10 three_layers</th>\n      <td>2.578952</td>\n      <td>10.354368</td>\n      <td>164.924475</td>\n      <td>21.7322</td>\n      <td>6.7803</td>\n      <td>14.9519</td>\n    </tr>\n  </tbody>\n</table>\n</div>"
     },
     "execution_count": 40,
     "metadata": {},
     "output_type": "execute_result"
    }
   ],
   "source": [
    "CIFAR_SIZE = (128, 3, 132, 132)\n",
    "DEVICE = 'cpu'\n",
    "SORT = f'self_{DEVICE}_time_total'\n",
    "resnet18_for_cifar = resnet18(num_classes=10)\n",
    "df.loc['Baseline ResNet18 CIFAR10'] = inference_metrics(model=resnet18_for_cifar, input_size=CIFAR_SIZE, device=DEVICE)\n",
    "df"
   ],
   "metadata": {
    "collapsed": false,
    "ExecuteTime": {
     "end_time": "2023-11-14T15:03:34.988363940Z",
     "start_time": "2023-11-14T15:03:25.123731587Z"
    }
   },
   "id": "641a767eb7c7913c"
  },
  {
   "cell_type": "code",
   "execution_count": 42,
   "outputs": [
    {
     "name": "stderr",
     "output_type": "stream",
     "text": [
      "STAGE:2023-11-14 18:04:23 1787067:1787067 ActivityProfilerController.cpp:311] Completed Stage: Warm Up\n"
     ]
    },
    {
     "name": "stdout",
     "output_type": "stream",
     "text": [
      "---------------------------------  ------------  ------------  ------------  ------------  ------------  ------------  \n",
      "                             Name    Self CPU %      Self CPU   CPU total %     CPU total  CPU time avg    # of Calls  \n",
      "---------------------------------  ------------  ------------  ------------  ------------  ------------  ------------  \n",
      "         aten::mkldnn_convolution        66.67%     251.528ms        66.75%     251.855ms      12.593ms            20  \n",
      "                  model_inference        13.75%      51.892ms       100.00%     377.285ms     377.285ms             1  \n",
      "          aten::native_batch_norm         8.70%      32.827ms         8.73%      32.954ms       1.648ms            20  \n",
      "                 aten::clamp_min_         3.73%      14.058ms         3.73%      14.058ms     826.941us            17  \n",
      "    aten::max_pool2d_with_indices         3.64%      13.716ms         3.64%      13.716ms      13.716ms             1  \n",
      "                       aten::add_         3.02%      11.402ms         3.02%      11.402ms       1.425ms             8  \n",
      "                 aten::batch_norm         0.09%     335.000us         8.77%      33.103ms       1.655ms            20  \n",
      "                      aten::empty         0.09%     333.000us         0.09%     333.000us       2.108us           158  \n",
      "                aten::convolution         0.07%     264.000us        66.87%     252.296ms      12.615ms            20  \n",
      "                      aten::relu_         0.06%     222.000us         3.78%      14.280ms     840.000us            17  \n",
      "---------------------------------  ------------  ------------  ------------  ------------  ------------  ------------  \n",
      "Self CPU time total: 377.299ms\n"
     ]
    },
    {
     "name": "stderr",
     "output_type": "stream",
     "text": [
      "STAGE:2023-11-14 18:04:23 1787067:1787067 ActivityProfilerController.cpp:317] Completed Stage: Collection\n",
      "STAGE:2023-11-14 18:04:23 1787067:1787067 ActivityProfilerController.cpp:321] Completed Stage: Post Processing\n"
     ]
    }
   ],
   "source": [
    "prof = profile(model=resnet18_for_cifar, input_size=CIFAR_SIZE, with_flops=False, device=DEVICE)\n",
    "print(prof.key_averages().table(sort_by=SORT, row_limit=10))"
   ],
   "metadata": {
    "collapsed": false,
    "ExecuteTime": {
     "end_time": "2023-11-14T15:04:23.880437341Z",
     "start_time": "2023-11-14T15:04:23.071444409Z"
    }
   },
   "id": "f5534e41af14b717"
  },
  {
   "cell_type": "code",
   "execution_count": 43,
   "outputs": [
    {
     "name": "stderr",
     "output_type": "stream",
     "text": [
      "STAGE:2023-11-14 18:04:44 1787067:1787067 ActivityProfilerController.cpp:311] Completed Stage: Warm Up\n",
      "STAGE:2023-11-14 18:04:44 1787067:1787067 ActivityProfilerController.cpp:317] Completed Stage: Collection\n",
      "STAGE:2023-11-14 18:04:44 1787067:1787067 ActivityProfilerController.cpp:321] Completed Stage: Post Processing\n",
      "STAGE:2023-11-14 18:04:44 1787067:1787067 ActivityProfilerController.cpp:311] Completed Stage: Warm Up\n",
      "STAGE:2023-11-14 18:04:45 1787067:1787067 ActivityProfilerController.cpp:317] Completed Stage: Collection\n",
      "STAGE:2023-11-14 18:04:45 1787067:1787067 ActivityProfilerController.cpp:321] Completed Stage: Post Processing\n",
      "STAGE:2023-11-14 18:04:45 1787067:1787067 ActivityProfilerController.cpp:311] Completed Stage: Warm Up\n",
      "STAGE:2023-11-14 18:04:46 1787067:1787067 ActivityProfilerController.cpp:317] Completed Stage: Collection\n",
      "STAGE:2023-11-14 18:04:46 1787067:1787067 ActivityProfilerController.cpp:321] Completed Stage: Post Processing\n",
      "STAGE:2023-11-14 18:04:46 1787067:1787067 ActivityProfilerController.cpp:311] Completed Stage: Warm Up\n",
      "STAGE:2023-11-14 18:04:47 1787067:1787067 ActivityProfilerController.cpp:317] Completed Stage: Collection\n",
      "STAGE:2023-11-14 18:04:47 1787067:1787067 ActivityProfilerController.cpp:321] Completed Stage: Post Processing\n",
      "STAGE:2023-11-14 18:04:47 1787067:1787067 ActivityProfilerController.cpp:311] Completed Stage: Warm Up\n",
      "STAGE:2023-11-14 18:04:47 1787067:1787067 ActivityProfilerController.cpp:317] Completed Stage: Collection\n",
      "STAGE:2023-11-14 18:04:47 1787067:1787067 ActivityProfilerController.cpp:321] Completed Stage: Post Processing\n",
      "STAGE:2023-11-14 18:04:48 1787067:1787067 ActivityProfilerController.cpp:311] Completed Stage: Warm Up\n",
      "STAGE:2023-11-14 18:04:48 1787067:1787067 ActivityProfilerController.cpp:317] Completed Stage: Collection\n",
      "STAGE:2023-11-14 18:04:48 1787067:1787067 ActivityProfilerController.cpp:321] Completed Stage: Post Processing\n",
      "STAGE:2023-11-14 18:04:49 1787067:1787067 ActivityProfilerController.cpp:311] Completed Stage: Warm Up\n",
      "STAGE:2023-11-14 18:04:49 1787067:1787067 ActivityProfilerController.cpp:317] Completed Stage: Collection\n",
      "STAGE:2023-11-14 18:04:49 1787067:1787067 ActivityProfilerController.cpp:321] Completed Stage: Post Processing\n",
      "STAGE:2023-11-14 18:04:50 1787067:1787067 ActivityProfilerController.cpp:311] Completed Stage: Warm Up\n",
      "STAGE:2023-11-14 18:04:50 1787067:1787067 ActivityProfilerController.cpp:317] Completed Stage: Collection\n",
      "STAGE:2023-11-14 18:04:50 1787067:1787067 ActivityProfilerController.cpp:321] Completed Stage: Post Processing\n",
      "STAGE:2023-11-14 18:04:51 1787067:1787067 ActivityProfilerController.cpp:311] Completed Stage: Warm Up\n",
      "STAGE:2023-11-14 18:04:51 1787067:1787067 ActivityProfilerController.cpp:317] Completed Stage: Collection\n",
      "STAGE:2023-11-14 18:04:51 1787067:1787067 ActivityProfilerController.cpp:321] Completed Stage: Post Processing\n",
      "STAGE:2023-11-14 18:04:51 1787067:1787067 ActivityProfilerController.cpp:311] Completed Stage: Warm Up\n",
      "STAGE:2023-11-14 18:04:52 1787067:1787067 ActivityProfilerController.cpp:317] Completed Stage: Collection\n",
      "STAGE:2023-11-14 18:04:52 1787067:1787067 ActivityProfilerController.cpp:321] Completed Stage: Post Processing\n",
      "STAGE:2023-11-14 18:04:52 1787067:1787067 ActivityProfilerController.cpp:311] Completed Stage: Warm Up\n",
      "STAGE:2023-11-14 18:04:53 1787067:1787067 ActivityProfilerController.cpp:317] Completed Stage: Collection\n",
      "STAGE:2023-11-14 18:04:53 1787067:1787067 ActivityProfilerController.cpp:321] Completed Stage: Post Processing\n"
     ]
    },
    {
     "data": {
      "text/plain": "                               params, M   size, MB       GFLOP  \\\nBaseline ResNet18 CIFAR10      11.181642  44.765128  187.563442   \nResNet18 CIFAR10 one_layer      2.578952  10.354368  189.914631   \nResNet18 CIFAR10 two_layers     2.578952  10.354368  130.465980   \nResNet18 CIFAR10 three_layers   2.578952  10.354368  164.924475   \n\n                               inference time, ms  CPU time, ms  GPU time, ms  \nBaseline ResNet18 CIFAR10                421.4256      421.4256        0.0000  \nResNet18 CIFAR10 one_layer               422.0418      422.0418        0.0000  \nResNet18 CIFAR10 two_layers               18.8943        6.3264       12.5679  \nResNet18 CIFAR10 three_layers             21.7322        6.7803       14.9519  ",
      "text/html": "<div>\n<style scoped>\n    .dataframe tbody tr th:only-of-type {\n        vertical-align: middle;\n    }\n\n    .dataframe tbody tr th {\n        vertical-align: top;\n    }\n\n    .dataframe thead th {\n        text-align: right;\n    }\n</style>\n<table border=\"1\" class=\"dataframe\">\n  <thead>\n    <tr style=\"text-align: right;\">\n      <th></th>\n      <th>params, M</th>\n      <th>size, MB</th>\n      <th>GFLOP</th>\n      <th>inference time, ms</th>\n      <th>CPU time, ms</th>\n      <th>GPU time, ms</th>\n    </tr>\n  </thead>\n  <tbody>\n    <tr>\n      <th>Baseline ResNet18 CIFAR10</th>\n      <td>11.181642</td>\n      <td>44.765128</td>\n      <td>187.563442</td>\n      <td>421.4256</td>\n      <td>421.4256</td>\n      <td>0.0000</td>\n    </tr>\n    <tr>\n      <th>ResNet18 CIFAR10 one_layer</th>\n      <td>2.578952</td>\n      <td>10.354368</td>\n      <td>189.914631</td>\n      <td>422.0418</td>\n      <td>422.0418</td>\n      <td>0.0000</td>\n    </tr>\n    <tr>\n      <th>ResNet18 CIFAR10 two_layers</th>\n      <td>2.578952</td>\n      <td>10.354368</td>\n      <td>130.465980</td>\n      <td>18.8943</td>\n      <td>6.3264</td>\n      <td>12.5679</td>\n    </tr>\n    <tr>\n      <th>ResNet18 CIFAR10 three_layers</th>\n      <td>2.578952</td>\n      <td>10.354368</td>\n      <td>164.924475</td>\n      <td>21.7322</td>\n      <td>6.7803</td>\n      <td>14.9519</td>\n    </tr>\n  </tbody>\n</table>\n</div>"
     },
     "execution_count": 43,
     "metadata": {},
     "output_type": "execute_result"
    }
   ],
   "source": [
    "resnet18_for_cifar_svd_one = resnet18(num_classes=10)\n",
    "load_svd_state_dict(\n",
    "    model=resnet18_for_cifar_svd_one,\n",
    "    decomposing_mode='spatial',\n",
    "    state_dict_path='/media/n31v/data/results/SVDRL/test/light_x3/model8458/Nov09_17-03/trained_model.sd.pt',\n",
    "    forward_mode='one_layer',\n",
    ")\n",
    "df.loc['ResNet18 CIFAR10 one_layer'] = inference_metrics(model=resnet18_for_cifar_svd_one, input_size=CIFAR_SIZE, device=DEVICE)\n",
    "df"
   ],
   "metadata": {
    "collapsed": false,
    "ExecuteTime": {
     "end_time": "2023-11-14T15:04:53.428166084Z",
     "start_time": "2023-11-14T15:04:42.358683704Z"
    }
   },
   "id": "7ff0c88d5e671343"
  },
  {
   "cell_type": "code",
   "execution_count": 47,
   "outputs": [
    {
     "name": "stderr",
     "output_type": "stream",
     "text": [
      "STAGE:2023-11-14 18:05:18 1787067:1787067 ActivityProfilerController.cpp:311] Completed Stage: Warm Up\n"
     ]
    },
    {
     "name": "stdout",
     "output_type": "stream",
     "text": [
      "---------------------------------  ------------  ------------  ------------  ------------  ------------  ------------  \n",
      "                             Name    Self CPU %      Self CPU   CPU total %     CPU total  CPU time avg    # of Calls  \n",
      "---------------------------------  ------------  ------------  ------------  ------------  ------------  ------------  \n",
      "         aten::mkldnn_convolution        61.33%     284.622ms        61.39%     284.923ms      14.246ms            20  \n",
      "                  model_inference        18.16%      84.265ms       100.00%     464.085ms     464.085ms             1  \n",
      "          aten::native_batch_norm         7.82%      36.305ms         7.85%      36.438ms       1.822ms            20  \n",
      "    aten::max_pool2d_with_indices         3.06%      14.184ms         3.06%      14.184ms      14.184ms             1  \n",
      "                 aten::clamp_min_         3.04%      14.122ms         3.04%      14.122ms     830.706us            17  \n",
      "                       aten::add_         2.59%      12.005ms         2.59%      12.005ms       1.501ms             8  \n",
      "                         aten::mm         1.94%       8.999ms         1.94%       8.999ms     224.975us            40  \n",
      "                      aten::copy_         1.03%       4.796ms         1.03%       4.796ms     122.974us            39  \n",
      "                     aten::matmul         0.44%       2.057ms         1.95%       9.066ms     226.650us            40  \n",
      "                 aten::contiguous         0.24%       1.134ms         1.05%       4.854ms     285.529us            17  \n",
      "---------------------------------  ------------  ------------  ------------  ------------  ------------  ------------  \n",
      "Self CPU time total: 464.098ms\n"
     ]
    },
    {
     "name": "stderr",
     "output_type": "stream",
     "text": [
      "STAGE:2023-11-14 18:05:19 1787067:1787067 ActivityProfilerController.cpp:317] Completed Stage: Collection\n",
      "STAGE:2023-11-14 18:05:19 1787067:1787067 ActivityProfilerController.cpp:321] Completed Stage: Post Processing\n"
     ]
    }
   ],
   "source": [
    "prof = profile(model=resnet18_for_cifar_svd_one, input_size=CIFAR_SIZE, with_flops=False, device=DEVICE)\n",
    "print(prof.key_averages().table(sort_by=SORT, row_limit=10))"
   ],
   "metadata": {
    "collapsed": false,
    "ExecuteTime": {
     "end_time": "2023-11-14T15:05:19.371201414Z",
     "start_time": "2023-11-14T15:05:18.293088287Z"
    }
   },
   "id": "73fb0e1614e2a5c6"
  },
  {
   "cell_type": "code",
   "execution_count": 48,
   "outputs": [
    {
     "name": "stderr",
     "output_type": "stream",
     "text": [
      "STAGE:2023-11-14 18:05:29 1787067:1787067 ActivityProfilerController.cpp:311] Completed Stage: Warm Up\n",
      "STAGE:2023-11-14 18:05:29 1787067:1787067 ActivityProfilerController.cpp:317] Completed Stage: Collection\n",
      "STAGE:2023-11-14 18:05:29 1787067:1787067 ActivityProfilerController.cpp:321] Completed Stage: Post Processing\n",
      "STAGE:2023-11-14 18:05:30 1787067:1787067 ActivityProfilerController.cpp:311] Completed Stage: Warm Up\n",
      "STAGE:2023-11-14 18:05:30 1787067:1787067 ActivityProfilerController.cpp:317] Completed Stage: Collection\n",
      "STAGE:2023-11-14 18:05:30 1787067:1787067 ActivityProfilerController.cpp:321] Completed Stage: Post Processing\n",
      "STAGE:2023-11-14 18:05:30 1787067:1787067 ActivityProfilerController.cpp:311] Completed Stage: Warm Up\n",
      "STAGE:2023-11-14 18:05:31 1787067:1787067 ActivityProfilerController.cpp:317] Completed Stage: Collection\n",
      "STAGE:2023-11-14 18:05:31 1787067:1787067 ActivityProfilerController.cpp:321] Completed Stage: Post Processing\n",
      "STAGE:2023-11-14 18:05:31 1787067:1787067 ActivityProfilerController.cpp:311] Completed Stage: Warm Up\n",
      "STAGE:2023-11-14 18:05:32 1787067:1787067 ActivityProfilerController.cpp:317] Completed Stage: Collection\n",
      "STAGE:2023-11-14 18:05:32 1787067:1787067 ActivityProfilerController.cpp:321] Completed Stage: Post Processing\n",
      "STAGE:2023-11-14 18:05:32 1787067:1787067 ActivityProfilerController.cpp:311] Completed Stage: Warm Up\n",
      "STAGE:2023-11-14 18:05:32 1787067:1787067 ActivityProfilerController.cpp:317] Completed Stage: Collection\n",
      "STAGE:2023-11-14 18:05:32 1787067:1787067 ActivityProfilerController.cpp:321] Completed Stage: Post Processing\n",
      "STAGE:2023-11-14 18:05:33 1787067:1787067 ActivityProfilerController.cpp:311] Completed Stage: Warm Up\n",
      "STAGE:2023-11-14 18:05:33 1787067:1787067 ActivityProfilerController.cpp:317] Completed Stage: Collection\n",
      "STAGE:2023-11-14 18:05:33 1787067:1787067 ActivityProfilerController.cpp:321] Completed Stage: Post Processing\n",
      "STAGE:2023-11-14 18:05:34 1787067:1787067 ActivityProfilerController.cpp:311] Completed Stage: Warm Up\n",
      "STAGE:2023-11-14 18:05:34 1787067:1787067 ActivityProfilerController.cpp:317] Completed Stage: Collection\n",
      "STAGE:2023-11-14 18:05:34 1787067:1787067 ActivityProfilerController.cpp:321] Completed Stage: Post Processing\n",
      "STAGE:2023-11-14 18:05:34 1787067:1787067 ActivityProfilerController.cpp:311] Completed Stage: Warm Up\n",
      "STAGE:2023-11-14 18:05:35 1787067:1787067 ActivityProfilerController.cpp:317] Completed Stage: Collection\n",
      "STAGE:2023-11-14 18:05:35 1787067:1787067 ActivityProfilerController.cpp:321] Completed Stage: Post Processing\n",
      "STAGE:2023-11-14 18:05:35 1787067:1787067 ActivityProfilerController.cpp:311] Completed Stage: Warm Up\n",
      "STAGE:2023-11-14 18:05:35 1787067:1787067 ActivityProfilerController.cpp:317] Completed Stage: Collection\n",
      "STAGE:2023-11-14 18:05:35 1787067:1787067 ActivityProfilerController.cpp:321] Completed Stage: Post Processing\n",
      "STAGE:2023-11-14 18:05:36 1787067:1787067 ActivityProfilerController.cpp:311] Completed Stage: Warm Up\n",
      "STAGE:2023-11-14 18:05:36 1787067:1787067 ActivityProfilerController.cpp:317] Completed Stage: Collection\n",
      "STAGE:2023-11-14 18:05:36 1787067:1787067 ActivityProfilerController.cpp:321] Completed Stage: Post Processing\n",
      "STAGE:2023-11-14 18:05:37 1787067:1787067 ActivityProfilerController.cpp:311] Completed Stage: Warm Up\n",
      "STAGE:2023-11-14 18:05:37 1787067:1787067 ActivityProfilerController.cpp:317] Completed Stage: Collection\n",
      "STAGE:2023-11-14 18:05:37 1787067:1787067 ActivityProfilerController.cpp:321] Completed Stage: Post Processing\n"
     ]
    },
    {
     "data": {
      "text/plain": "                               params, M   size, MB       GFLOP  \\\nBaseline ResNet18 CIFAR10      11.181642  44.765128  187.563442   \nResNet18 CIFAR10 one_layer      2.578952  10.354368  189.914631   \nResNet18 CIFAR10 two_layers     2.578952  10.354368  130.465980   \nResNet18 CIFAR10 three_layers   2.578952  10.354368  164.924475   \n\n                               inference time, ms  CPU time, ms  GPU time, ms  \nBaseline ResNet18 CIFAR10                421.4256      421.4256        0.0000  \nResNet18 CIFAR10 one_layer               422.0418      422.0418        0.0000  \nResNet18 CIFAR10 two_layers              371.4678      371.4678        0.0000  \nResNet18 CIFAR10 three_layers             21.7322        6.7803       14.9519  ",
      "text/html": "<div>\n<style scoped>\n    .dataframe tbody tr th:only-of-type {\n        vertical-align: middle;\n    }\n\n    .dataframe tbody tr th {\n        vertical-align: top;\n    }\n\n    .dataframe thead th {\n        text-align: right;\n    }\n</style>\n<table border=\"1\" class=\"dataframe\">\n  <thead>\n    <tr style=\"text-align: right;\">\n      <th></th>\n      <th>params, M</th>\n      <th>size, MB</th>\n      <th>GFLOP</th>\n      <th>inference time, ms</th>\n      <th>CPU time, ms</th>\n      <th>GPU time, ms</th>\n    </tr>\n  </thead>\n  <tbody>\n    <tr>\n      <th>Baseline ResNet18 CIFAR10</th>\n      <td>11.181642</td>\n      <td>44.765128</td>\n      <td>187.563442</td>\n      <td>421.4256</td>\n      <td>421.4256</td>\n      <td>0.0000</td>\n    </tr>\n    <tr>\n      <th>ResNet18 CIFAR10 one_layer</th>\n      <td>2.578952</td>\n      <td>10.354368</td>\n      <td>189.914631</td>\n      <td>422.0418</td>\n      <td>422.0418</td>\n      <td>0.0000</td>\n    </tr>\n    <tr>\n      <th>ResNet18 CIFAR10 two_layers</th>\n      <td>2.578952</td>\n      <td>10.354368</td>\n      <td>130.465980</td>\n      <td>371.4678</td>\n      <td>371.4678</td>\n      <td>0.0000</td>\n    </tr>\n    <tr>\n      <th>ResNet18 CIFAR10 three_layers</th>\n      <td>2.578952</td>\n      <td>10.354368</td>\n      <td>164.924475</td>\n      <td>21.7322</td>\n      <td>6.7803</td>\n      <td>14.9519</td>\n    </tr>\n  </tbody>\n</table>\n</div>"
     },
     "execution_count": 48,
     "metadata": {},
     "output_type": "execute_result"
    }
   ],
   "source": [
    "resnet18_for_cifar_svd_two = resnet18(num_classes=10)\n",
    "load_svd_state_dict(\n",
    "    model=resnet18_for_cifar_svd_two,\n",
    "    decomposing_mode='spatial',\n",
    "    state_dict_path='/media/n31v/data/results/SVDRL/test/light_x3/model8458/Nov09_17-03/trained_model.sd.pt',\n",
    "    forward_mode='two_layers',\n",
    ")\n",
    "df.loc['ResNet18 CIFAR10 two_layers'] = inference_metrics(model=resnet18_for_cifar_svd_two, input_size=CIFAR_SIZE, device=DEVICE)\n",
    "df"
   ],
   "metadata": {
    "collapsed": false,
    "ExecuteTime": {
     "end_time": "2023-11-14T15:05:37.798245615Z",
     "start_time": "2023-11-14T15:05:27.941320904Z"
    }
   },
   "id": "a610b6f984782eff"
  },
  {
   "cell_type": "code",
   "execution_count": 49,
   "outputs": [
    {
     "name": "stderr",
     "output_type": "stream",
     "text": [
      "STAGE:2023-11-14 18:05:42 1787067:1787067 ActivityProfilerController.cpp:311] Completed Stage: Warm Up\n"
     ]
    },
    {
     "name": "stdout",
     "output_type": "stream",
     "text": [
      "---------------------------------  ------------  ------------  ------------  ------------  ------------  ------------  \n",
      "                             Name    Self CPU %      Self CPU   CPU total %     CPU total  CPU time avg    # of Calls  \n",
      "---------------------------------  ------------  ------------  ------------  ------------  ------------  ------------  \n",
      "         aten::mkldnn_convolution        55.15%     213.263ms        55.29%     213.800ms       5.345ms            40  \n",
      "                  model_inference        16.35%      63.218ms       100.00%     386.676ms     386.676ms             1  \n",
      "          aten::native_batch_norm        11.51%      44.505ms        11.57%      44.736ms       2.237ms            20  \n",
      "    aten::max_pool2d_with_indices         3.99%      15.441ms         3.99%      15.441ms      15.441ms             1  \n",
      "                 aten::clamp_min_         3.85%      14.885ms         3.85%      14.885ms     875.588us            17  \n",
      "                       aten::add_         3.41%      13.191ms         3.41%      13.191ms       1.649ms             8  \n",
      "                      aten::copy_         2.26%       8.756ms         2.26%       8.756ms     224.513us            39  \n",
      "               aten::_convolution         1.25%       4.822ms        58.84%     227.508ms       5.688ms            40  \n",
      "                         aten::mm         0.70%       2.726ms         0.70%       2.726ms     136.300us            20  \n",
      "                     aten::conv2d         0.46%       1.778ms        58.98%     228.065ms       5.702ms            40  \n",
      "---------------------------------  ------------  ------------  ------------  ------------  ------------  ------------  \n",
      "Self CPU time total: 386.687ms\n"
     ]
    },
    {
     "name": "stderr",
     "output_type": "stream",
     "text": [
      "STAGE:2023-11-14 18:05:43 1787067:1787067 ActivityProfilerController.cpp:317] Completed Stage: Collection\n",
      "STAGE:2023-11-14 18:05:43 1787067:1787067 ActivityProfilerController.cpp:321] Completed Stage: Post Processing\n"
     ]
    }
   ],
   "source": [
    "prof = profile(model=resnet18_for_cifar_svd_two, input_size=CIFAR_SIZE, with_flops=False, device=DEVICE)\n",
    "print(prof.key_averages().table(sort_by=SORT, row_limit=10))"
   ],
   "metadata": {
    "collapsed": false,
    "ExecuteTime": {
     "end_time": "2023-11-14T15:05:43.340941267Z",
     "start_time": "2023-11-14T15:05:42.475824105Z"
    }
   },
   "id": "d3615f1e5fefbe73"
  },
  {
   "cell_type": "code",
   "execution_count": 50,
   "outputs": [
    {
     "name": "stderr",
     "output_type": "stream",
     "text": [
      "STAGE:2023-11-14 18:05:50 1787067:1787067 ActivityProfilerController.cpp:311] Completed Stage: Warm Up\n",
      "STAGE:2023-11-14 18:05:51 1787067:1787067 ActivityProfilerController.cpp:317] Completed Stage: Collection\n",
      "STAGE:2023-11-14 18:05:51 1787067:1787067 ActivityProfilerController.cpp:321] Completed Stage: Post Processing\n",
      "STAGE:2023-11-14 18:05:51 1787067:1787067 ActivityProfilerController.cpp:311] Completed Stage: Warm Up\n",
      "STAGE:2023-11-14 18:05:52 1787067:1787067 ActivityProfilerController.cpp:317] Completed Stage: Collection\n",
      "STAGE:2023-11-14 18:05:52 1787067:1787067 ActivityProfilerController.cpp:321] Completed Stage: Post Processing\n",
      "STAGE:2023-11-14 18:05:52 1787067:1787067 ActivityProfilerController.cpp:311] Completed Stage: Warm Up\n",
      "STAGE:2023-11-14 18:05:53 1787067:1787067 ActivityProfilerController.cpp:317] Completed Stage: Collection\n",
      "STAGE:2023-11-14 18:05:53 1787067:1787067 ActivityProfilerController.cpp:321] Completed Stage: Post Processing\n",
      "STAGE:2023-11-14 18:05:53 1787067:1787067 ActivityProfilerController.cpp:311] Completed Stage: Warm Up\n",
      "STAGE:2023-11-14 18:05:54 1787067:1787067 ActivityProfilerController.cpp:317] Completed Stage: Collection\n",
      "STAGE:2023-11-14 18:05:54 1787067:1787067 ActivityProfilerController.cpp:321] Completed Stage: Post Processing\n",
      "STAGE:2023-11-14 18:05:54 1787067:1787067 ActivityProfilerController.cpp:311] Completed Stage: Warm Up\n",
      "STAGE:2023-11-14 18:05:55 1787067:1787067 ActivityProfilerController.cpp:317] Completed Stage: Collection\n",
      "STAGE:2023-11-14 18:05:55 1787067:1787067 ActivityProfilerController.cpp:321] Completed Stage: Post Processing\n",
      "STAGE:2023-11-14 18:05:55 1787067:1787067 ActivityProfilerController.cpp:311] Completed Stage: Warm Up\n",
      "STAGE:2023-11-14 18:05:56 1787067:1787067 ActivityProfilerController.cpp:317] Completed Stage: Collection\n",
      "STAGE:2023-11-14 18:05:56 1787067:1787067 ActivityProfilerController.cpp:321] Completed Stage: Post Processing\n",
      "STAGE:2023-11-14 18:05:56 1787067:1787067 ActivityProfilerController.cpp:311] Completed Stage: Warm Up\n",
      "STAGE:2023-11-14 18:05:57 1787067:1787067 ActivityProfilerController.cpp:317] Completed Stage: Collection\n",
      "STAGE:2023-11-14 18:05:57 1787067:1787067 ActivityProfilerController.cpp:321] Completed Stage: Post Processing\n",
      "STAGE:2023-11-14 18:05:58 1787067:1787067 ActivityProfilerController.cpp:311] Completed Stage: Warm Up\n",
      "STAGE:2023-11-14 18:05:58 1787067:1787067 ActivityProfilerController.cpp:317] Completed Stage: Collection\n",
      "STAGE:2023-11-14 18:05:58 1787067:1787067 ActivityProfilerController.cpp:321] Completed Stage: Post Processing\n",
      "STAGE:2023-11-14 18:05:58 1787067:1787067 ActivityProfilerController.cpp:311] Completed Stage: Warm Up\n",
      "STAGE:2023-11-14 18:05:59 1787067:1787067 ActivityProfilerController.cpp:317] Completed Stage: Collection\n",
      "STAGE:2023-11-14 18:05:59 1787067:1787067 ActivityProfilerController.cpp:321] Completed Stage: Post Processing\n",
      "STAGE:2023-11-14 18:05:59 1787067:1787067 ActivityProfilerController.cpp:311] Completed Stage: Warm Up\n",
      "STAGE:2023-11-14 18:06:00 1787067:1787067 ActivityProfilerController.cpp:317] Completed Stage: Collection\n",
      "STAGE:2023-11-14 18:06:00 1787067:1787067 ActivityProfilerController.cpp:321] Completed Stage: Post Processing\n",
      "STAGE:2023-11-14 18:06:00 1787067:1787067 ActivityProfilerController.cpp:311] Completed Stage: Warm Up\n",
      "STAGE:2023-11-14 18:06:01 1787067:1787067 ActivityProfilerController.cpp:317] Completed Stage: Collection\n",
      "STAGE:2023-11-14 18:06:01 1787067:1787067 ActivityProfilerController.cpp:321] Completed Stage: Post Processing\n"
     ]
    },
    {
     "data": {
      "text/plain": "                               params, M   size, MB       GFLOP  \\\nBaseline ResNet18 CIFAR10      11.181642  44.765128  187.563442   \nResNet18 CIFAR10 one_layer      2.578952  10.354368  189.914631   \nResNet18 CIFAR10 two_layers     2.578952  10.354368  130.465980   \nResNet18 CIFAR10 three_layers   2.578952  10.354368  164.924475   \n\n                               inference time, ms  CPU time, ms  GPU time, ms  \nBaseline ResNet18 CIFAR10                421.4256      421.4256           0.0  \nResNet18 CIFAR10 one_layer               422.0418      422.0418           0.0  \nResNet18 CIFAR10 two_layers              371.4678      371.4678           0.0  \nResNet18 CIFAR10 three_layers            483.0609      483.0609           0.0  ",
      "text/html": "<div>\n<style scoped>\n    .dataframe tbody tr th:only-of-type {\n        vertical-align: middle;\n    }\n\n    .dataframe tbody tr th {\n        vertical-align: top;\n    }\n\n    .dataframe thead th {\n        text-align: right;\n    }\n</style>\n<table border=\"1\" class=\"dataframe\">\n  <thead>\n    <tr style=\"text-align: right;\">\n      <th></th>\n      <th>params, M</th>\n      <th>size, MB</th>\n      <th>GFLOP</th>\n      <th>inference time, ms</th>\n      <th>CPU time, ms</th>\n      <th>GPU time, ms</th>\n    </tr>\n  </thead>\n  <tbody>\n    <tr>\n      <th>Baseline ResNet18 CIFAR10</th>\n      <td>11.181642</td>\n      <td>44.765128</td>\n      <td>187.563442</td>\n      <td>421.4256</td>\n      <td>421.4256</td>\n      <td>0.0</td>\n    </tr>\n    <tr>\n      <th>ResNet18 CIFAR10 one_layer</th>\n      <td>2.578952</td>\n      <td>10.354368</td>\n      <td>189.914631</td>\n      <td>422.0418</td>\n      <td>422.0418</td>\n      <td>0.0</td>\n    </tr>\n    <tr>\n      <th>ResNet18 CIFAR10 two_layers</th>\n      <td>2.578952</td>\n      <td>10.354368</td>\n      <td>130.465980</td>\n      <td>371.4678</td>\n      <td>371.4678</td>\n      <td>0.0</td>\n    </tr>\n    <tr>\n      <th>ResNet18 CIFAR10 three_layers</th>\n      <td>2.578952</td>\n      <td>10.354368</td>\n      <td>164.924475</td>\n      <td>483.0609</td>\n      <td>483.0609</td>\n      <td>0.0</td>\n    </tr>\n  </tbody>\n</table>\n</div>"
     },
     "execution_count": 50,
     "metadata": {},
     "output_type": "execute_result"
    }
   ],
   "source": [
    "resnet18_for_cifar_svd_three = resnet18(num_classes=10)\n",
    "load_svd_state_dict(\n",
    "    model=resnet18_for_cifar_svd_three,\n",
    "    decomposing_mode='spatial',\n",
    "    state_dict_path='/media/n31v/data/results/SVDRL/test/light_x3/model8458/Nov09_17-03/trained_model.sd.pt',\n",
    "    forward_mode='three_layers',\n",
    ")\n",
    "df.loc['ResNet18 CIFAR10 three_layers'] = inference_metrics(model=resnet18_for_cifar_svd_three, input_size=CIFAR_SIZE, device=DEVICE)\n",
    "df"
   ],
   "metadata": {
    "collapsed": false,
    "ExecuteTime": {
     "end_time": "2023-11-14T15:06:01.390178450Z",
     "start_time": "2023-11-14T15:05:49.044052462Z"
    }
   },
   "id": "2f7f8f35a7236167"
  },
  {
   "cell_type": "code",
   "execution_count": 51,
   "outputs": [
    {
     "name": "stderr",
     "output_type": "stream",
     "text": [
      "STAGE:2023-11-14 18:06:32 1787067:1787067 ActivityProfilerController.cpp:311] Completed Stage: Warm Up\n"
     ]
    },
    {
     "name": "stdout",
     "output_type": "stream",
     "text": [
      "---------------------------------  ------------  ------------  ------------  ------------  ------------  ------------  \n",
      "                             Name    Self CPU %      Self CPU   CPU total %     CPU total  CPU time avg    # of Calls  \n",
      "---------------------------------  ------------  ------------  ------------  ------------  ------------  ------------  \n",
      "         aten::mkldnn_convolution        60.73%     296.277ms        60.90%     297.071ms       4.951ms            60  \n",
      "                  model_inference        18.86%      92.013ms       100.00%     487.808ms     487.808ms             1  \n",
      "          aten::native_batch_norm         8.79%      42.877ms         8.84%      43.117ms       2.156ms            20  \n",
      "                 aten::clamp_min_         3.28%      15.979ms         3.28%      15.979ms     939.941us            17  \n",
      "                       aten::add_         2.79%      13.588ms         2.79%      13.588ms       1.698ms             8  \n",
      "    aten::max_pool2d_with_indices         2.75%      13.403ms         2.75%      13.403ms      13.403ms             1  \n",
      "                      aten::copy_         1.50%       7.298ms         1.50%       7.298ms     187.128us            39  \n",
      "                     aten::conv2d         0.27%       1.312ms        62.70%     305.866ms       5.098ms            60  \n",
      "                aten::convolution         0.15%     721.000us        62.67%     305.719ms       5.095ms            60  \n",
      "                    aten::resize_         0.13%     657.000us         0.13%     657.000us      11.328us            58  \n",
      "---------------------------------  ------------  ------------  ------------  ------------  ------------  ------------  \n",
      "Self CPU time total: 487.821ms\n"
     ]
    },
    {
     "name": "stderr",
     "output_type": "stream",
     "text": [
      "STAGE:2023-11-14 18:06:33 1787067:1787067 ActivityProfilerController.cpp:317] Completed Stage: Collection\n",
      "STAGE:2023-11-14 18:06:33 1787067:1787067 ActivityProfilerController.cpp:321] Completed Stage: Post Processing\n"
     ]
    }
   ],
   "source": [
    "prof = profile(model=resnet18_for_cifar_svd_three, input_size=CIFAR_SIZE, with_flops=False, device=DEVICE)\n",
    "print(prof.key_averages().table(sort_by=SORT, row_limit=10))"
   ],
   "metadata": {
    "collapsed": false,
    "ExecuteTime": {
     "end_time": "2023-11-14T15:06:33.250448625Z",
     "start_time": "2023-11-14T15:06:32.103678678Z"
    }
   },
   "id": "595858241286e83c"
  }
 ],
 "metadata": {
  "kernelspec": {
   "display_name": "Python 3",
   "language": "python",
   "name": "python3"
  },
  "language_info": {
   "codemirror_mode": {
    "name": "ipython",
    "version": 2
   },
   "file_extension": ".py",
   "mimetype": "text/x-python",
   "name": "python",
   "nbconvert_exporter": "python",
   "pygments_lexer": "ipython2",
   "version": "2.7.6"
  }
 },
 "nbformat": 4,
 "nbformat_minor": 5
}
